{
 "cells": [
  {
   "cell_type": "markdown",
   "metadata": {},
   "source": [
    "Performing Hypothesis Test to know whether the housing price which have been predicted from sample of dataset is correct or not."
   ]
  },
  {
   "cell_type": "code",
   "execution_count": 3,
   "metadata": {},
   "outputs": [],
   "source": [
    "lp <-  read.csv(\"AIT.csv\" )"
   ]
  },
  {
   "cell_type": "code",
   "execution_count": 4,
   "metadata": {},
   "outputs": [
    {
     "data": {
      "text/plain": [
       "\n",
       "\tOne Sample t-test\n",
       "\n",
       "data:  lp$price\n",
       "t = 2.6555e-12, df = 21612, p-value = 0.5\n",
       "alternative hypothesis: true mean is greater than 540182.2\n",
       "95 percent confidence interval:\n",
       " 536071.8      Inf\n",
       "sample estimates:\n",
       "mean of x \n",
       " 540182.2 \n"
      ]
     },
     "metadata": {},
     "output_type": "display_data"
    }
   ],
   "source": [
    "t.test(lp$price, mu=540182.1587933121, alternative='greater')"
   ]
  },
  {
   "cell_type": "markdown",
   "metadata": {},
   "source": [
    "Here the P-value is 0.5 which is greater than 0.05.\n",
    "From this it can be concluded that the Predicted housing price value is correct as it says that Null hypothesis is accepted."
   ]
  },
  {
   "cell_type": "code",
   "execution_count": 14,
   "metadata": {},
   "outputs": [
    {
     "data": {
      "text/plain": [
       "\n",
       "\tWelch Two Sample t-test\n",
       "\n",
       "data:  lp$price[lp$grade > 7] and lp$price[lp$grade < 7]\n",
       "t = 82.735, df = 12193, p-value = 1\n",
       "alternative hypothesis: true difference in means is less than 0\n",
       "95 percent confidence interval:\n",
       "     -Inf 428188.1\n",
       "sample estimates:\n",
       "mean of x mean of y \n",
       " 714879.5  295038.8 \n"
      ]
     },
     "metadata": {},
     "output_type": "display_data"
    }
   ],
   "source": [
    "t.test(lp$price[lp$grade>7],lp$price[lp$grade<7], alternative ='less')"
   ]
  },
  {
   "cell_type": "markdown",
   "metadata": {},
   "source": [
    "Checking what is the comparision when the prices of the houses vary when grade changes from one house to another.\n",
    "P-value is 1 which is greater than 0.05, so the value which has been predicted is correct.\n",
    "From this test it has been observed that the houses which has grade>7 has high price compare to houses which has grade<7.\n",
    "[Explanation: P-value>0.05 which means Null hypothesis is correct, assumed that the price will be less by comparing these two conditions, so the alternative is false and prices are greater(which is true from visualization analysis of dataset)]\n"
   ]
  },
  {
   "cell_type": "code",
   "execution_count": 15,
   "metadata": {},
   "outputs": [
    {
     "data": {
      "text/plain": [
       "\n",
       "\tWelch Two Sample t-test\n",
       "\n",
       "data:  lp$price[lp$condition > 3] and lp$price[lp$condition < 3]\n",
       "t = 11.856, df = 226.51, p-value = 1\n",
       "alternative hypothesis: true difference in means is less than 0\n",
       "95 percent confidence interval:\n",
       "     -Inf 243771.5\n",
       "sample estimates:\n",
       "mean of x mean of y \n",
       " 542338.9  328373.0 \n"
      ]
     },
     "metadata": {},
     "output_type": "display_data"
    }
   ],
   "source": [
    "t.test(lp$price[lp$condition>3],lp$price[lp$condition<3], alternative='less')"
   ]
  },
  {
   "cell_type": "markdown",
   "metadata": {},
   "source": [
    "Checking what is the comparision when the prices of the houses vary when condition changes from one house to another. P-value is 1 which is greater than 0.05, so the value which has been predicted is correct. From this test it has been observed that the houses which has condition>7 has high price compare to houses which has condition<7. [Explanation: P-value>0.05 which means Null hypothesis is correct, assumed that the price will be less by comparing these two conditions, so the alternative is false and Null hypothesis which i have predicted is correct i.e., prices are greater(which is true from visualization analysis of dataset)]"
   ]
  }
 ],
 "metadata": {
  "kernelspec": {
   "display_name": "R",
   "language": "R",
   "name": "ir"
  },
  "language_info": {
   "codemirror_mode": "r",
   "file_extension": ".r",
   "mimetype": "text/x-r-source",
   "name": "R",
   "pygments_lexer": "r",
   "version": "3.6.1"
  }
 },
 "nbformat": 4,
 "nbformat_minor": 4
}
